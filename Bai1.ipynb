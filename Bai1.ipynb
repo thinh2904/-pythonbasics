{
  "nbformat": 4,
  "nbformat_minor": 0,
  "metadata": {
    "colab": {
      "name": "Bai1.ipynb",
      "provenance": []
    },
    "kernelspec": {
      "name": "python3",
      "display_name": "Python 3"
    }
  },
  "cells": [
    {
      "cell_type": "code",
      "metadata": {
        "id": "4Xhy_IiuKmQd",
        "outputId": "3d2109a4-5fcd-4583-e629-fb98b5a8f4bb",
        "colab": {
          "base_uri": "https://localhost:8080/",
          "height": 136
        }
      },
      "source": [
        "a=int(input(\"Nhập số nguyên a=\"))\n",
        "b=int(input(\"Nhập số nguyên b=\"))\n",
        "tong=a+b\n",
        "tich=a*b\n",
        "hieu=a-b\n",
        "du=a%b\n",
        "nguyen=a//b\n",
        "print(\"1.Tổng a+b=\",tong)\n",
        "print(\"2.Tích a*b=\",tich)\n",
        "print(\"3.Hiệu a-b=\",hieu)\n",
        "print(\"4.Phần dư của a/b là \",du)\n",
        "print(\"5.Phần nguyên của a/b là \",nguyen)"
      ],
      "execution_count": 5,
      "outputs": [
        {
          "output_type": "stream",
          "text": [
            "Nhập số nguyên a=5\n",
            "Nhập số nguyên b=7\n",
            "1.Tổng a+b= 12\n",
            "2.Tích a*b= 35\n",
            "3.Hiệu a-b= -2\n",
            "4.Phần dư của a/b là  5\n",
            "5.Phần nguyên của a/b là  0\n"
          ],
          "name": "stdout"
        }
      ]
    }
  ]
}